{
  "nbformat": 4,
  "nbformat_minor": 0,
  "metadata": {
    "colab": {
      "provenance": []
    },
    "kernelspec": {
      "name": "python3",
      "display_name": "Python 3"
    },
    "language_info": {
      "name": "python"
    }
  },
  "cells": [
    {
      "cell_type": "markdown",
      "source": [
        "\n",
        "draw a graph(an undirected graph), dictionary is pakitan_cities, have 8 nodes with successive edges, nodes=8, edges=9"
      ],
      "metadata": {
        "id": "O_FprXPgFidj"
      }
    },
    {
      "cell_type": "code",
      "execution_count": 2,
      "metadata": {
        "id": "oVz6ArQn80Ql"
      },
      "outputs": [],
      "source": [
        "from collections import deque\n",
        "pakistan_cities = {\n",
        "    'mansehra' : ['lahore'],\n",
        "    'abbottabad' : ['islamabad'],\n",
        "    'haripur' : ['rawalpindi' , 'abbottabad'],\n",
        "    'bahawalpur': ['karachi'],\n",
        "    'sahiwal': ['quetta'],\n",
        "    'sialkot': ['nowshera'],\n",
        "    'attock': ['abbottabad'],\n",
        "    'sukhar' : ['mansehra']\n",
        "}\n",
        "\n"
      ]
    },
    {
      "cell_type": "markdown",
      "source": [
        "a function(def) is defined as bfs_shortest_path with attributes graph, start, goal\n",
        "than a"
      ],
      "metadata": {
        "id": "fUdZvmU0FgqL"
      }
    },
    {
      "cell_type": "code",
      "source": [
        "from collections  import deque\n",
        "pakistan_cities = {\n",
        "    'mansehra' : ['lahore'],\n",
        "    'abbottabad' : ['islamabad'],\n",
        "    'haripur' : ['rawalpindi' , 'abbottabad'],\n",
        "    'bahawalpur': ['karachi'],\n",
        "    'sahiwal': ['quetta'],\n",
        "    'sialkot': ['nowshera'],\n",
        "    'attock': ['abbottabad'],\n",
        "    'sukhar' : ['mansehra']\n",
        "}\n",
        "\n",
        "def bfs_shortest_path(graph, start, goal):\n",
        "    queue = deque([[start]])\n",
        "    visited = set()\n",
        "\n",
        "    while queue:\n",
        "        path = queue.popleft()\n",
        "        current_city = path[-1]\n",
        "\n",
        "        if current_city == goal:\n",
        "            return path\n",
        "\n",
        "        if current_city not in visited:\n",
        "            visited.add(current_city)\n",
        "\n",
        "            for neighbor in graph.get(current_city, []):\n",
        "                new_path = list(path)\n",
        "                new_path.append(neighbor)\n",
        "                queue.append(new_path)\n",
        "\n",
        "    return None\n",
        "\n",
        "def dfs_path(graph, start, goal, path=None, visited=None):\n",
        "    if path is None:\n",
        "        path = []\n",
        "    if visited is None:\n",
        "        visited = set()\n",
        "\n",
        "    path.append(start)\n",
        "    visited.add(start)\n",
        "\n",
        "    if start == goal:\n",
        "        return path\n",
        "\n",
        "    for neighbor in graph.get(start, []):\n",
        "        if neighbor not in visited:\n",
        "            result = dfs_path(graph, neighbor, goal, path.copy(), visited.copy())\n",
        "            if result:\n",
        "                return result\n",
        "\n",
        "    return None\n",
        "\n",
        "\n",
        "start_city = \"abbottabad\"\n",
        "goal_city = \"lahore\"\n",
        "\n",
        "bfs_result = bfs_shortest_path(pakistan_cities, start_city, goal_city)\n",
        "print(\"BFS Shortest Path from abbottabad to lahore:\", bfs_result)\n",
        "\n",
        "dfs_result = dfs_path(pakistan_cities, start_city, goal_city)\n",
        "print(\"DFS Path from abbottabad to lahore:\", dfs_result)"
      ],
      "metadata": {
        "id": "0_t3HCtmEL0b",
        "colab": {
          "base_uri": "https://localhost:8080/",
          "height": 383
        },
        "outputId": "45479761-1a91-426d-e902-8a52f208cbd4"
      },
      "execution_count": 13,
      "outputs": [
        {
          "output_type": "error",
          "ename": "ModuleNotFoundError",
          "evalue": "No module named 'deque'",
          "traceback": [
            "\u001b[0;31m---------------------------------------------------------------------------\u001b[0m",
            "\u001b[0;31mModuleNotFoundError\u001b[0m                       Traceback (most recent call last)",
            "\u001b[0;32m/tmp/ipython-input-2212537620.py\u001b[0m in \u001b[0;36m<cell line: 0>\u001b[0;34m()\u001b[0m\n\u001b[1;32m      1\u001b[0m \u001b[0;31m#from collections  import deque\u001b[0m\u001b[0;34m\u001b[0m\u001b[0;34m\u001b[0m\u001b[0m\n\u001b[0;32m----> 2\u001b[0;31m \u001b[0;32mimport\u001b[0m \u001b[0mdeque\u001b[0m\u001b[0;34m\u001b[0m\u001b[0;34m\u001b[0m\u001b[0m\n\u001b[0m\u001b[1;32m      3\u001b[0m pakistan_cities = {\n\u001b[1;32m      4\u001b[0m     \u001b[0;34m'mansehra'\u001b[0m \u001b[0;34m:\u001b[0m \u001b[0;34m[\u001b[0m\u001b[0;34m'lahore'\u001b[0m\u001b[0;34m]\u001b[0m\u001b[0;34m,\u001b[0m\u001b[0;34m\u001b[0m\u001b[0;34m\u001b[0m\u001b[0m\n\u001b[1;32m      5\u001b[0m     \u001b[0;34m'abbottabad'\u001b[0m \u001b[0;34m:\u001b[0m \u001b[0;34m[\u001b[0m\u001b[0;34m'islamabad'\u001b[0m\u001b[0;34m]\u001b[0m\u001b[0;34m,\u001b[0m\u001b[0;34m\u001b[0m\u001b[0;34m\u001b[0m\u001b[0m\n",
            "\u001b[0;31mModuleNotFoundError\u001b[0m: No module named 'deque'",
            "",
            "\u001b[0;31m---------------------------------------------------------------------------\u001b[0;32m\nNOTE: If your import is failing due to a missing package, you can\nmanually install dependencies using either !pip or !apt.\n\nTo view examples of installing some common dependencies, click the\n\"Open Examples\" button below.\n\u001b[0;31m---------------------------------------------------------------------------\u001b[0m\n"
          ],
          "errorDetails": {
            "actions": [
              {
                "action": "open_url",
                "actionText": "Open Examples",
                "url": "/notebooks/snippets/importing_libraries.ipynb"
              }
            ]
          }
        }
      ]
    }
  ]
}